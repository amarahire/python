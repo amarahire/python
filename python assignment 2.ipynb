{
 "cells": [
  {
   "cell_type": "code",
   "execution_count": 1,
   "metadata": {},
   "outputs": [
    {
     "name": "stdout",
     "output_type": "stream",
     "text": [
      "* \n",
      "\n",
      "* * \n",
      "\n",
      "* * * \n",
      "\n",
      "* * * * \n",
      "\n",
      "* * * * * \n",
      "\n",
      "* * * * \n",
      "\n",
      "* * * \n",
      "\n",
      "* * \n",
      "\n",
      "* \n",
      "\n",
      "\n",
      "\n"
     ]
    }
   ],
   "source": [
    "'''\n",
    "2. Create the below pattern using nested for loop in Python.\n",
    "\n",
    "* \n",
    "\n",
    "* * \n",
    "\n",
    "* * * \n",
    "\n",
    "* * * * \n",
    "\n",
    "* * * * * \n",
    "\n",
    "* * * * \n",
    "\n",
    "* * * \n",
    "\n",
    "* * \n",
    "\n",
    "*\n",
    "'''\n",
    "\n",
    "for i in range(1,11):\n",
    "    if(i<=4):\n",
    "        for j in range(i):\n",
    "            print(\"*\" ,end=\" \")\n",
    "\n",
    "        print(\"\\n\")\n",
    "    else:\n",
    "    \n",
    "        for j in range(i,10):\n",
    "            print(\"*\",end=\" \")\n",
    "        print('\\n')"
   ]
  },
  {
   "cell_type": "code",
   "execution_count": 2,
   "metadata": {},
   "outputs": [
    {
     "name": "stdout",
     "output_type": "stream",
     "text": [
      "['i', 'n', 'e', 'u', 'r', 'o', 'n']\n",
      "norueni\n"
     ]
    }
   ],
   "source": [
    "'''\n",
    "3. Write a Python program to reverse a word after accepting the input from the user.\n",
    "'''\n",
    "\n",
    "'''def test():\n",
    "    x = input('enter a word : ')\n",
    "    print(x[::-1])\n",
    "#test()'''\n",
    "\n",
    "'''x = input()\n",
    "s = ' '\n",
    "print(len(list(x)))'''\n",
    "x = 'ineuron'\n",
    "c = list(x)\n",
    "print(c)\n",
    "#print(c[0])\n",
    "\n",
    "l = len(c)\n",
    "#print(l)\n",
    "\n",
    "s = ''\n",
    "\n",
    "for i in range(l-1,-1,-1):\n",
    "    #print(c[i])\n",
    "    s = s +c[i]\n",
    "print(s)\n",
    "\n",
    "    \n",
    "        "
   ]
  },
  {
   "cell_type": "code",
   "execution_count": null,
   "metadata": {},
   "outputs": [],
   "source": []
  }
 ],
 "metadata": {
  "kernelspec": {
   "display_name": "Python 3",
   "language": "python",
   "name": "python3"
  },
  "language_info": {
   "codemirror_mode": {
    "name": "ipython",
    "version": 3
   },
   "file_extension": ".py",
   "mimetype": "text/x-python",
   "name": "python",
   "nbconvert_exporter": "python",
   "pygments_lexer": "ipython3",
   "version": "3.8.5"
  }
 },
 "nbformat": 4,
 "nbformat_minor": 4
}
