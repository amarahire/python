{
 "cells": [
  {
   "cell_type": "code",
   "execution_count": 1,
   "metadata": {},
   "outputs": [
    {
     "name": "stdout",
     "output_type": "stream",
     "text": [
      "2030,2065,2100,2135,2170,2205,2240,2275,2310,2345,2380,2415,2450,2485,2520,2555,2590,2625,2660,2695,2730,2765,2800,2835,2870,2905,2940,2975,3010,3045,3080,3115,3150,3185\n"
     ]
    }
   ],
   "source": [
    "'''\n",
    "2. Write a program which will find all such numbers which are divisible by 7 but are not a multiple of 5,\n",
    "between 2000 and 3200 (both included). \n",
    "The numbers obtained should be printed in a comma-separated sequence on a single line.\n",
    "'''\n",
    "\n",
    "def test():\n",
    "    lst = []\n",
    "    \n",
    "    for i in range(2000,3201):\n",
    "        if(i%7==0 and i%5==0):\n",
    "            lst.append(str(i))\n",
    "    res = \",\".join(lst)\n",
    "    print(res)\n",
    "test()\n"
   ]
  },
  {
   "cell_type": "code",
   "execution_count": 2,
   "metadata": {},
   "outputs": [
    {
     "name": "stdout",
     "output_type": "stream",
     "text": [
      "Hello Ahire Amar\n"
     ]
    }
   ],
   "source": [
    "'''\n",
    "3. Write a Python program to accept the user's first and\n",
    "last name and then getting them printed in the the reverse order with\n",
    "a space between first name and last name.\n",
    "'''\n",
    "\n",
    "class A:\n",
    "    \n",
    "    def __init__(self,fname,lname):\n",
    "        \n",
    "        self.fname = fname\n",
    "        self.lname = lname\n",
    "        \n",
    "    def display(self):\n",
    "        \n",
    "        res = self.lname +' '+self.fname\n",
    "        print(\"Hello\",res)\n",
    "output = A('Amar','Ahire')\n",
    "output.display()"
   ]
  },
  {
   "cell_type": "code",
   "execution_count": 8,
   "metadata": {},
   "outputs": [
    {
     "name": "stdout",
     "output_type": "stream",
     "text": [
      "Enter radius :5\n",
      "volumne of sphere:  20.95238095238095\n"
     ]
    }
   ],
   "source": [
    "'''\n",
    "3.\tWrite a Python program to find the volume of a sphere with diameter 12 cm.\n",
    " \n",
    "3 \n",
    "Formula: V=4/3 * π * r \n",
    "'''\n",
    "\n",
    "def volume():\n",
    "    \n",
    "    radius = int(input('Enter radius :'))\n",
    "    pi = 22/7\n",
    "    Formula: V=4/3 * pi * radius \n",
    "    print( \"volumne of sphere: \",Formula)\n",
    "volume()"
   ]
  },
  {
   "cell_type": "code",
   "execution_count": 6,
   "metadata": {},
   "outputs": [
    {
     "data": {
      "text/plain": [
       "3.142857142857143"
      ]
     },
     "execution_count": 6,
     "metadata": {},
     "output_type": "execute_result"
    }
   ],
   "source": [
    "22/7"
   ]
  },
  {
   "cell_type": "code",
   "execution_count": null,
   "metadata": {},
   "outputs": [],
   "source": []
  }
 ],
 "metadata": {
  "kernelspec": {
   "display_name": "Python 3",
   "language": "python",
   "name": "python3"
  },
  "language_info": {
   "codemirror_mode": {
    "name": "ipython",
    "version": 3
   },
   "file_extension": ".py",
   "mimetype": "text/x-python",
   "name": "python",
   "nbconvert_exporter": "python",
   "pygments_lexer": "ipython3",
   "version": "3.8.5"
  }
 },
 "nbformat": 4,
 "nbformat_minor": 4
}
