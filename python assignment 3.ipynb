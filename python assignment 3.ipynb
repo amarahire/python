{
 "cells": [
  {
   "cell_type": "code",
   "execution_count": 1,
   "metadata": {},
   "outputs": [
    {
     "name": "stdout",
     "output_type": "stream",
     "text": [
      "Sum of list:  15\n",
      "Product of list:  120\n",
      "odd numbers:  [1, 3, 5]\n"
     ]
    }
   ],
   "source": [
    "'''\n",
    "1.1 Write a Python Program to implement your own myreduce() function which works exactly\n",
    "like Python's built-in function reduce()\n",
    "'''\n",
    "\n",
    "def myreduce(fun,alist):\n",
    "    \n",
    "    x = alist[0]\n",
    "    \n",
    "    for i in range(1,len(alist)):\n",
    "        x = fun(x ,alist[i])\n",
    "    return x\n",
    "\n",
    "def myfilter(fun,alist):\n",
    "    x =[]\n",
    "    y = []\n",
    "    for i in alist:\n",
    "        x.append(fun(i))\n",
    "    \n",
    "    \n",
    "    for j in x:\n",
    "        if(j != None):\n",
    "            y.append(j)\n",
    "    return y\n",
    "\n",
    "    \n",
    "\n",
    "def Sum(x1,x2):\n",
    "    return x1 + x2\n",
    "def Prod(x1,x2):\n",
    "    return x1 * x2\n",
    "\n",
    "def odd_num(i):\n",
    "    if(i%2!=0):\n",
    "        return i\n",
    "        \n",
    "        \n",
    "\n",
    "a = [1,2,3,4,5]\n",
    "\n",
    "print('Sum of list: ', myreduce(Sum,a))\n",
    "print('Product of list: ', myreduce(Prod,a))\n",
    "print('odd numbers: ', myfilter(odd_num,a))\n",
    "\n",
    "    "
   ]
  },
  {
   "cell_type": "code",
   "execution_count": 2,
   "metadata": {},
   "outputs": [
    {
     "name": "stdout",
     "output_type": "stream",
     "text": [
      "please select below operations..\n",
      "1. print even number\n",
      "2. print multiple by 5\n",
      "3. Exit the code\n",
      "enter your choices : 1\n",
      "[2, 4, 6, 8, 10]\n",
      "please select below operations..\n",
      "1. print even number\n",
      "2. print multiple by 5\n",
      "3. Exit the code\n",
      "enter your choices : 2\n",
      "[5, 10]\n",
      "please select below operations..\n",
      "1. print even number\n",
      "2. print multiple by 5\n",
      "3. Exit the code\n",
      "enter your choices : 3\n",
      "Exited\n"
     ]
    }
   ],
   "source": [
    "'''\n",
    "1.2 Write a Python program to implement your own myfilter() function which works exactly\n",
    "like Python's built-in function filter()\n",
    "'''\n",
    "\n",
    "def myfilter(lst):\n",
    "    \n",
    "    while(len(lst)!=0):\n",
    "        \n",
    "        print('please select below operations..')\n",
    "        print('1. print even number')\n",
    "        print('2. print multiple by 5')\n",
    "        print('3. Exit the code')\n",
    "        inp1 = input('enter your choices : ')\n",
    "        \n",
    "        if(inp1 == '1'):\n",
    "            res = op1(lst)\n",
    "            print(res)\n",
    "        elif(inp1 == '2'):\n",
    "            res = op2(lst)\n",
    "            print(res)\n",
    "        elif(inp1 == '3'):\n",
    "            print('Exited')\n",
    "            break\n",
    "            \n",
    "    \n",
    "        \n",
    "        \n",
    "def op1(lst):\n",
    "    x = []\n",
    "    for i in lst:\n",
    "        if(i%2==0):\n",
    "            x.append(i)\n",
    "        \n",
    "    return x\n",
    "\n",
    "def op2(lst):\n",
    "    \n",
    "    x = []\n",
    "    for i in lst:\n",
    "        if(i%5==0):\n",
    "            x.append(i)\n",
    "    return x\n",
    "            \n",
    "    \n",
    "if __name__ == \"__main__\":\n",
    "    \n",
    "    myfilter([1,2,3,4,5,6,7,8,9,10])\n"
   ]
  },
  {
   "cell_type": "code",
   "execution_count": 3,
   "metadata": {},
   "outputs": [
    {
     "name": "stdout",
     "output_type": "stream",
     "text": [
      "['A', 'C', 'A', 'D', 'G', 'I', 'L', 'D']\n",
      "['x', 'y', 'z', 'xx', 'yy', 'zz', 'xxx', 'yyy', 'zzz', 'xxxx', 'yyyy', 'zzzz']\n",
      "['x', 'xx', 'xxx', 'xxxx', 'y', 'yy', 'yyy', 'yyyy', 'z', 'zz', 'zzz', 'zzzz']\n",
      "[[2], [3], [4], [3], [4], [5], [4], [5], [6]]\n",
      "[[2, 3, 4, 5], [3, 4, 5, 6], [4, 5, 6, 7], [5, 6, 7, 8]]\n"
     ]
    },
    {
     "data": {
      "text/plain": [
       "[(1, 1), (2, 1), (3, 1), (1, 2), (2, 2), (3, 2), (1, 3), (2, 3), (3, 3)]"
      ]
     },
     "execution_count": 3,
     "metadata": {},
     "output_type": "execute_result"
    }
   ],
   "source": [
    "'''\n",
    "2. Write List comprehensions to produce the following Lists\n",
    "\n",
    "1. ['A', 'C', 'A', 'D', 'G', 'I', 'L', 'D']\n",
    "\n",
    "2. ['x', 'xx', 'xxx', 'xxxx', 'y', 'yy', 'yyy', 'yyyy', 'z', 'zz', 'zzz', 'zzzz']\n",
    "\n",
    "3. ['x', 'y', 'z', 'xx', 'yy', 'zz', 'xx', 'yy', 'zz', 'xxxx', 'yyyy', 'zzzz']\n",
    "\n",
    "4. [[2], [3], [4], [3], [4], [5], [4], [5], [6]]\n",
    "\n",
    "5. [[2, 3, 4, 5], [3, 4, 5, 6], [4, 5, 6, 7], [5, 6, 7, 8]]\n",
    "\n",
    "6. [(1, 1), (2, 1), (3, 1), (1, 2), (2, 2), (3, 2), (1, 3), (2, 3), (3, 3)]\n",
    "'''\n",
    "\n",
    "l1 = [ i for i in 'ACADGILD']\n",
    "print(l1)\n",
    "l2 = [i*j for i in range(1,5) for j in 'xyz']\n",
    "print(l2)\n",
    "l3 = [j*i for j in 'xyz' for i in range(1,5)]\n",
    "print(l3)\n",
    "l4 = [[i + j] for j in [0, 1, 2] for i in range(2, 5)]\n",
    "print(l4)\n",
    "'''for i in [0,1,2]:\n",
    "    for j in range(2,5):\n",
    "        print(i+j)'''\n",
    "\n",
    "l5 = [[i+j for i in [0,1,2,3]] for j in range(2,6)]\n",
    "print(l5)\n",
    "\n",
    "l6 = [(i,j) for j in range(1,4) for i in [1,2,3]]\n",
    "l6"
   ]
  },
  {
   "cell_type": "code",
   "execution_count": null,
   "metadata": {},
   "outputs": [],
   "source": []
  }
 ],
 "metadata": {
  "kernelspec": {
   "display_name": "Python 3",
   "language": "python",
   "name": "python3"
  },
  "language_info": {
   "codemirror_mode": {
    "name": "ipython",
    "version": 3
   },
   "file_extension": ".py",
   "mimetype": "text/x-python",
   "name": "python",
   "nbconvert_exporter": "python",
   "pygments_lexer": "ipython3",
   "version": "3.8.5"
  }
 },
 "nbformat": 4,
 "nbformat_minor": 4
}
