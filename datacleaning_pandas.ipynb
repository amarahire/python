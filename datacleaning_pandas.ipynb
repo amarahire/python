{
 "cells": [
  {
   "cell_type": "code",
   "execution_count": 1,
   "metadata": {},
   "outputs": [],
   "source": [
    "import pandas as pd\n",
    "import numpy as np"
   ]
  },
  {
   "cell_type": "code",
   "execution_count": 2,
   "metadata": {},
   "outputs": [],
   "source": [
    "df = pd.DataFrame({'From_To': ['LoNDon_paris', 'MAdrid_miLAN',\n",
    "'londON_StockhOlm',\n",
    "\n",
    "'Budapest_PaRis', 'Brussels_londOn'],\n",
    "'FlightNumber': [10045, np.nan, 10065, np.nan, 10085],\n",
    "'RecentDelays': [[23, 47], [], [24, 43, 87], [13], [67, 32]],\n",
    "'Airline': ['KLM(!)', '<Air France> (12)', '(British Airways. )',\n",
    "'12. Air France', '\"Swiss Air\"']})"
   ]
  },
  {
   "cell_type": "code",
   "execution_count": 3,
   "metadata": {},
   "outputs": [
    {
     "data": {
      "text/html": [
       "<div>\n",
       "<style scoped>\n",
       "    .dataframe tbody tr th:only-of-type {\n",
       "        vertical-align: middle;\n",
       "    }\n",
       "\n",
       "    .dataframe tbody tr th {\n",
       "        vertical-align: top;\n",
       "    }\n",
       "\n",
       "    .dataframe thead th {\n",
       "        text-align: right;\n",
       "    }\n",
       "</style>\n",
       "<table border=\"1\" class=\"dataframe\">\n",
       "  <thead>\n",
       "    <tr style=\"text-align: right;\">\n",
       "      <th></th>\n",
       "      <th>From_To</th>\n",
       "      <th>FlightNumber</th>\n",
       "      <th>RecentDelays</th>\n",
       "      <th>Airline</th>\n",
       "    </tr>\n",
       "  </thead>\n",
       "  <tbody>\n",
       "    <tr>\n",
       "      <th>0</th>\n",
       "      <td>LoNDon_paris</td>\n",
       "      <td>10045.0</td>\n",
       "      <td>[23, 47]</td>\n",
       "      <td>KLM(!)</td>\n",
       "    </tr>\n",
       "    <tr>\n",
       "      <th>1</th>\n",
       "      <td>MAdrid_miLAN</td>\n",
       "      <td>NaN</td>\n",
       "      <td>[]</td>\n",
       "      <td>&lt;Air France&gt; (12)</td>\n",
       "    </tr>\n",
       "    <tr>\n",
       "      <th>2</th>\n",
       "      <td>londON_StockhOlm</td>\n",
       "      <td>10065.0</td>\n",
       "      <td>[24, 43, 87]</td>\n",
       "      <td>(British Airways. )</td>\n",
       "    </tr>\n",
       "    <tr>\n",
       "      <th>3</th>\n",
       "      <td>Budapest_PaRis</td>\n",
       "      <td>NaN</td>\n",
       "      <td>[13]</td>\n",
       "      <td>12. Air France</td>\n",
       "    </tr>\n",
       "    <tr>\n",
       "      <th>4</th>\n",
       "      <td>Brussels_londOn</td>\n",
       "      <td>10085.0</td>\n",
       "      <td>[67, 32]</td>\n",
       "      <td>\"Swiss Air\"</td>\n",
       "    </tr>\n",
       "  </tbody>\n",
       "</table>\n",
       "</div>"
      ],
      "text/plain": [
       "            From_To  FlightNumber  RecentDelays              Airline\n",
       "0      LoNDon_paris       10045.0      [23, 47]               KLM(!)\n",
       "1      MAdrid_miLAN           NaN            []    <Air France> (12)\n",
       "2  londON_StockhOlm       10065.0  [24, 43, 87]  (British Airways. )\n",
       "3    Budapest_PaRis           NaN          [13]       12. Air France\n",
       "4   Brussels_londOn       10085.0      [67, 32]          \"Swiss Air\""
      ]
     },
     "execution_count": 3,
     "metadata": {},
     "output_type": "execute_result"
    }
   ],
   "source": [
    "df"
   ]
  },
  {
   "cell_type": "code",
   "execution_count": 4,
   "metadata": {},
   "outputs": [
    {
     "name": "stdout",
     "output_type": "stream",
     "text": [
      "            From_To  FlightNumber  RecentDelays              Airline\n",
      "0      LoNDon_paris         10055      [23, 47]               KLM(!)\n",
      "1      MAdrid_miLAN            10            []    <Air France> (12)\n",
      "2  londON_StockhOlm         10075  [24, 43, 87]  (British Airways. )\n",
      "3    Budapest_PaRis            10          [13]       12. Air France\n",
      "4   Brussels_londOn         10095      [67, 32]          \"Swiss Air\"\n"
     ]
    }
   ],
   "source": [
    "\"\"\"1. Some values in the the FlightNumber column are missing. These numbers are\n",
    "meant to increase by 10 with each row so 10055 and 10075 need to be put in\n",
    "place. Fill in these missing numbers and make the column an integer column\n",
    "(instead of a float column).\"\"\"\n",
    "\n",
    "df['FlightNumber'] = df['FlightNumber'].fillna(0)\n",
    "\n",
    "lst = []\n",
    "for i in df['FlightNumber']:\n",
    "    lst.append(i+10)\n",
    "\n",
    "df['FlightNumber']=lst\n",
    "\n",
    "df['FlightNumber'] = df['FlightNumber'].astype('int')\n",
    "print(df)"
   ]
  },
  {
   "cell_type": "code",
   "execution_count": 5,
   "metadata": {},
   "outputs": [
    {
     "name": "stdout",
     "output_type": "stream",
     "text": [
      "       From         To  FlightNumber  RecentDelays              Airline\n",
      "0    LoNDon      paris         10055      [23, 47]               KLM(!)\n",
      "1    MAdrid      miLAN            10            []    <Air France> (12)\n",
      "2    londON  StockhOlm         10075  [24, 43, 87]  (British Airways. )\n",
      "3  Budapest      PaRis            10          [13]       12. Air France\n",
      "4  Brussels     londOn         10095      [67, 32]          \"Swiss Air\"\n"
     ]
    }
   ],
   "source": [
    "\"\"\"2. The From_To column would be better as two separate columns! Split each\n",
    "string on the underscore delimiter _ to give a new temporary DataFrame with\n",
    "the correct values. Assign the correct column names to this temporary\n",
    "DataFrame.\"\"\"\n",
    "\n",
    "#From = []\n",
    "#To = []\n",
    "data = []\n",
    "\n",
    "res = [i.split('_') for i in df['From_To']]\n",
    "From = [i[0] for i in res]\n",
    "To = [i[1] for i in res]\n",
    "\n",
    "df['From'] = From\n",
    "df['To'] = To\n",
    "\n",
    "\n",
    "\n",
    "df = df.drop('From_To',axis=1)\n",
    "\n",
    "cols = list(df.columns)\n",
    "cols = cols[3:] + cols[:3]\n",
    "df = df[cols]\n",
    "print(df)"
   ]
  },
  {
   "cell_type": "code",
   "execution_count": 6,
   "metadata": {},
   "outputs": [
    {
     "name": "stdout",
     "output_type": "stream",
     "text": [
      "       From         To  FlightNumber  RecentDelays              Airline\n",
      "0    London      Paris         10055      [23, 47]               KLM(!)\n",
      "1    Madrid      Milan            10            []    <Air France> (12)\n",
      "2    London  Stockholm         10075  [24, 43, 87]  (British Airways. )\n",
      "3  Budapest      Paris            10          [13]       12. Air France\n",
      "4  Brussels     London         10095      [67, 32]          \"Swiss Air\"\n"
     ]
    }
   ],
   "source": [
    "\"\"\"3. Notice how the capitalisation of the city names is all mixed up in this\n",
    "temporary DataFrame. Standardise the strings so that only the first letter is\n",
    "uppercase (e.g. \"londON\" should become \"London\".)\"\"\"\n",
    "\n",
    "capFrom = []\n",
    "capTo = []\n",
    "for i,j in zip(df['From'],df['To']):\n",
    "    capFrom.append(i.capitalize())\n",
    "    capTo.append(j.capitalize())\n",
    "    \n",
    "\n",
    "\n",
    "df['From'] = capFrom\n",
    "df['To'] = capTo\n",
    "print(df)"
   ]
  },
  {
   "cell_type": "code",
   "execution_count": 7,
   "metadata": {},
   "outputs": [],
   "source": [
    "\"\"\"5. In the RecentDelays column, the values have been entered into the\n",
    "DataFrame as a list. We would like each first value in its own column, each\n",
    "\n",
    "second value in its own column, and so on. If there isn't an Nth value, the value\n",
    "should be NaN.\"\"\"\n",
    "\n",
    "List=[]\n",
    "f = []\n",
    "s = []\n",
    "t =[]\n",
    "\n",
    "\n",
    "    \n",
    "    \n",
    "for i in df['RecentDelays']:\n",
    "    List.append(i)\n",
    "\n",
    "\n",
    "\n",
    "for i in List:\n",
    "    if(len(i)>0):\n",
    "        f.append(i[0])\n",
    "    else:\n",
    "        f.append('NaN')\n",
    "\n",
    "\n",
    "    if(len(i)>0 and len(i)>1):\n",
    "        s.append(i[1])\n",
    "    else:\n",
    "        s.append('NaN')\n",
    "\n",
    "    if(len(i)>0 and len(i)>2):\n",
    "        t.append(i[2])\n",
    "    else:\n",
    "        t.append('NaN')\n",
    "\n",
    "    \n",
    "df['delay_1'] = f\n",
    "df['delay_2'] = s\n",
    "df['delay_3'] = t\n",
    "\n",
    "df = df.drop('RecentDelays',axis=1)"
   ]
  },
  {
   "cell_type": "code",
   "execution_count": 8,
   "metadata": {},
   "outputs": [
    {
     "name": "stdout",
     "output_type": "stream",
     "text": [
      "       From         To  FlightNumber              Airline delay_1 delay_2  \\\n",
      "0    London      Paris         10055               KLM(!)      23      47   \n",
      "1    Madrid      Milan            10    <Air France> (12)     NaN     NaN   \n",
      "2    London  Stockholm         10075  (British Airways. )      24      43   \n",
      "3  Budapest      Paris            10       12. Air France      13     NaN   \n",
      "4  Brussels     London         10095          \"Swiss Air\"      67      32   \n",
      "\n",
      "  delay_3  \n",
      "0     NaN  \n",
      "1     NaN  \n",
      "2      87  \n",
      "3     NaN  \n",
      "4     NaN  \n"
     ]
    }
   ],
   "source": [
    "print(df)"
   ]
  },
  {
   "cell_type": "code",
   "execution_count": null,
   "metadata": {},
   "outputs": [],
   "source": []
  }
 ],
 "metadata": {
  "kernelspec": {
   "display_name": "Python 3",
   "language": "python",
   "name": "python3"
  },
  "language_info": {
   "codemirror_mode": {
    "name": "ipython",
    "version": 3
   },
   "file_extension": ".py",
   "mimetype": "text/x-python",
   "name": "python",
   "nbconvert_exporter": "python",
   "pygments_lexer": "ipython3",
   "version": "3.8.5"
  }
 },
 "nbformat": 4,
 "nbformat_minor": 4
}
