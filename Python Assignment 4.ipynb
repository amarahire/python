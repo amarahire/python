{
 "cells": [
  {
   "cell_type": "code",
   "execution_count": 1,
   "metadata": {},
   "outputs": [
    {
     "name": "stdout",
     "output_type": "stream",
     "text": [
      "[7, 7, 9, 8, 8]\n",
      "9\n",
      "7\n",
      "Smallest word is :  wordOne\n",
      "Smallest word is :  wordTwo\n",
      "Longest word is :  wordThree\n"
     ]
    }
   ],
   "source": [
    "'''.Implement a function longestWord() that takes a list of words and returns the longest one.'''\n",
    "\n",
    "def longestone(lst,Max,Min):\n",
    "    for i in range(0,len(lst)):\n",
    "        if(len(lst[i])==Max):\n",
    "            print(\"Longest word is : \",lst[i])\n",
    "        if(len(lst[i])==Min):\n",
    "            print(\"Smallest word is : \",lst[i])\n",
    "            \n",
    "def longestWord(lst):\n",
    "    length = []\n",
    "    #INP = input('Enter list of words: ')\n",
    "    #print(INP)\n",
    "    for i in lst:\n",
    "        length.append(len(i))\n",
    "    print(length)\n",
    "    \n",
    "    Max = length[0]\n",
    "    Min = length[0]\n",
    "    for i in length:\n",
    "        if(i>Max):\n",
    "            Max = i\n",
    "        if(i<Min):\n",
    "            Min = i\n",
    "    print(Max)\n",
    "    print(Min)\n",
    "    longestone(lst,Max,Min)\n",
    "longestWord(['wordOne', 'wordTwo', 'wordThree', 'wordFour', 'wordFive'])\n",
    "\n"
   ]
  },
  {
   "cell_type": "code",
   "execution_count": 2,
   "metadata": {},
   "outputs": [
    {
     "name": "stdout",
     "output_type": "stream",
     "text": [
      "['shree krishna', 'python programming']\n",
      "{3: 'shree krishna', 4: 'python programming'}\n"
     ]
    }
   ],
   "source": [
    "'''\n",
    "1.2 Write a function filter_long_words() that takes a list of words and an integer n and returns\n",
    "the list of words that are longer than n.\n",
    "'''\n",
    "\n",
    "def filter_long_words(lst,n):\n",
    "    longer = []\n",
    "    dic = {}\n",
    "    for i in range(0,len(lst)):\n",
    "        if(len(lst[i])>n):\n",
    "            longer.append(lst[i])\n",
    "            dic[i]=lst[i]\n",
    "    print(longer)\n",
    "    print(dic)\n",
    "filter_long_words(['amar','Dhaval','chetan','shree krishna','python programming'],7)"
   ]
  },
  {
   "cell_type": "code",
   "execution_count": 3,
   "metadata": {},
   "outputs": [
    {
     "data": {
      "text/plain": [
       "[3, 4, 5]"
      ]
     },
     "execution_count": 3,
     "metadata": {},
     "output_type": "execute_result"
    }
   ],
   "source": [
    "'''\n",
    "2.1 Write a Python program using function concept that maps list of words into a list of integers\n",
    "representing the lengths of the corresponding words.\n",
    "Hint: If a list [ ab,cde,erty] is passed on to the python function output should come as [2,3,4]\n",
    "Here 2,3 and 4 are the lengths of the words in the list.'''\n",
    "\n",
    "def using_map(lst):\n",
    "    return list(map(len,lst))\n",
    "\n",
    "\n",
    "def using_list(lst):\n",
    "    return [len(i) for i in lst]\n",
    "\n",
    "\n",
    "using_map(['abc','ghtu','oujkf'])\n",
    "using_list(['abc','ghtu','oujkf'])\n"
   ]
  },
  {
   "cell_type": "code",
   "execution_count": 4,
   "metadata": {},
   "outputs": [
    {
     "data": {
      "text/plain": [
       "True"
      ]
     },
     "execution_count": 4,
     "metadata": {},
     "output_type": "execute_result"
    }
   ],
   "source": [
    "'''\n",
    "2.2 Write a Python function which takes a character (i.e. a string of length 1) and returns True if\n",
    "it is a vowel, False otherwise.\n",
    "'''\n",
    "\n",
    "def checkStr(char):\n",
    "    \n",
    "    lst = ['a','e','i','o','u']\n",
    "    \n",
    "    for i in lst:\n",
    "        if(char in i):\n",
    "            return True\n",
    "        else:\n",
    "            return False\n",
    "checkStr('a')"
   ]
  },
  {
   "cell_type": "code",
   "execution_count": null,
   "metadata": {},
   "outputs": [],
   "source": []
  }
 ],
 "metadata": {
  "kernelspec": {
   "display_name": "Python 3",
   "language": "python",
   "name": "python3"
  },
  "language_info": {
   "codemirror_mode": {
    "name": "ipython",
    "version": 3
   },
   "file_extension": ".py",
   "mimetype": "text/x-python",
   "name": "python",
   "nbconvert_exporter": "python",
   "pygments_lexer": "ipython3",
   "version": "3.8.5"
  }
 },
 "nbformat": 4,
 "nbformat_minor": 4
}
